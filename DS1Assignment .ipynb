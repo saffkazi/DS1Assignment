{
 "cells": [
  {
   "cell_type": "markdown",
   "id": "c8fd272b",
   "metadata": {},
   "source": [
    "# Data Science Tools & Ecosystem"
   ]
  },
  {
   "cell_type": "markdown",
   "id": "c057be90",
   "metadata": {},
   "source": [
    "In this notebook, Data Science Tools & Ecosystem are summarized"
   ]
  },
  {
   "cell_type": "markdown",
   "id": "6c1ad9b8",
   "metadata": {},
   "source": [
    "**(\"Objectives\")**\n",
    "\n",
    "- List popular for Data Science \n",
    "- List open source tools for Data Science\n",
    "- List of some important libraries used for Data Science"
   ]
  },
  {
   "cell_type": "markdown",
   "id": "a95d3f7c",
   "metadata": {},
   "source": [
    "Some of the popular languages that Data Scientists use are:\n",
    "\n",
    "1. Python\n",
    "2. R\n",
    "3. Java\n",
    "4. SQL"
   ]
  },
  {
   "cell_type": "markdown",
   "id": "267ff985",
   "metadata": {},
   "source": [
    "Some of the commonly used libraries used by Data Scientists include:\n",
    "\n",
    "1. Matplotlip\n",
    "2. Scikit-learn\n",
    "3. Spark\n",
    "4. Scala\n"
   ]
  },
  {
   "cell_type": "markdown",
   "id": "3050f0a1",
   "metadata": {},
   "source": [
    "| Data Science Tools| \n",
    "| -------------|\n",
    "| MySQL |\n",
    "| MongoDB |\n",
    "| Apache Cassandra |"
   ]
  },
  {
   "cell_type": "markdown",
   "id": "1b5fdfaf",
   "metadata": {},
   "source": [
    "### Below are a few examples of evaluating arithmetic expressions in Python\n",
    "\n",
    "```python\n",
    "(20+5)*4\n",
    "\n",
    "(10+8)*3 \n",
    "\n",
    "```"
   ]
  },
  {
   "cell_type": "code",
   "execution_count": 7,
   "id": "8c1bb837",
   "metadata": {},
   "outputs": [
    {
     "data": {
      "text/plain": [
       "17"
      ]
     },
     "execution_count": 7,
     "metadata": {},
     "output_type": "execute_result"
    }
   ],
   "source": [
    "(3*4)+5\n",
    "\n",
    "# This a simple arithmetic expression to mutiply then add integers"
   ]
  },
  {
   "cell_type": "code",
   "execution_count": 12,
   "id": "e8acc09c",
   "metadata": {},
   "outputs": [
    {
     "data": {
      "text/plain": [
       "3.3333333333333335"
      ]
     },
     "execution_count": 12,
     "metadata": {},
     "output_type": "execute_result"
    }
   ],
   "source": [
    "(200/60)\n",
    "\n",
    "# This will convert 200 minutes to hours by diving by 60."
   ]
  },
  {
   "cell_type": "markdown",
   "id": "281e29bf",
   "metadata": {},
   "source": [
    "## Author \n",
    "Sarfaraz Kazi"
   ]
  },
  {
   "cell_type": "code",
   "execution_count": null,
   "id": "9e9c8dc7",
   "metadata": {},
   "outputs": [],
   "source": []
  }
 ],
 "metadata": {
  "kernelspec": {
   "display_name": "Python 3 (ipykernel)",
   "language": "python",
   "name": "python3"
  },
  "language_info": {
   "codemirror_mode": {
    "name": "ipython",
    "version": 3
   },
   "file_extension": ".py",
   "mimetype": "text/x-python",
   "name": "python",
   "nbconvert_exporter": "python",
   "pygments_lexer": "ipython3",
   "version": "3.11.7"
  }
 },
 "nbformat": 4,
 "nbformat_minor": 5
}
